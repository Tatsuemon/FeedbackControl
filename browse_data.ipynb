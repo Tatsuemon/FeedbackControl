{
 "cells": [
  {
   "cell_type": "code",
   "execution_count": 2,
   "metadata": {},
   "outputs": [
    {
     "name": "stdout",
     "output_type": "stream",
     "text": [
      "Populating the interactive namespace from numpy and matplotlib\n"
     ]
    }
   ],
   "source": [
    "%pylab inline\n",
    "import pandas as pd\n",
    "import numpy as np\n",
    "from datetime import datetime\n",
    "import os\n",
    "from os.path import join"
   ]
  },
  {
   "cell_type": "code",
   "execution_count": 3,
   "metadata": {},
   "outputs": [],
   "source": [
    "from ipywidgets import interact,interact_manual,IntSlider,FloatSlider"
   ]
  },
  {
   "cell_type": "code",
   "execution_count": 4,
   "metadata": {},
   "outputs": [],
   "source": [
    "%run customTypes\n",
    "%run thermocouple\n",
    "#from qms_jupyter import data as qms_data, plot_qms"
   ]
  },
  {
   "cell_type": "code",
   "execution_count": 5,
   "metadata": {},
   "outputs": [],
   "source": [
    "desk = join(os.path.expanduser(\"~\"),\"Desktop\", \"Data\")\n",
    "drop = join(os.path.expanduser(\"~\"),\"Dropbox\", \"workspace\",\"data\")\n",
    "# drop = join(os.path.expanduser(\"~\"),\"Dropbox\", \"Experiments\",\"2019-Ito-kun\",\"Data\")\n",
    "drop = join(os.path.expanduser('~'), \"Dropbox\", \"Data\")"
   ]
  },
  {
   "cell_type": "code",
   "execution_count": 6,
   "metadata": {},
   "outputs": [],
   "source": [
    "dr = drop\n",
    "temp_dir = os.path.join(dr, \"Temperature\")\n",
    "pres1_dir = os.path.join(dr, \"Pressure1\")\n",
    "pres2_dir = os.path.join(dr, \"Pressure2\")"
   ]
  },
  {
   "cell_type": "code",
   "execution_count": 7,
   "metadata": {},
   "outputs": [],
   "source": [
    "%run notebooktools.py"
   ]
  },
  {
   "cell_type": "code",
   "execution_count": 8,
   "metadata": {},
   "outputs": [],
   "source": [
    "lst = [i for i in sorted(os.listdir(temp_dir)) if i.startswith('out')]\n",
    "sz = np.array([os.path.getsize(join(temp_dir,i)) for i in lst])\n",
    "ind = list(np.where(sz>150)[0])\n",
    "lst = [lst[i] for i in ind]"
   ]
  },
  {
   "cell_type": "code",
<<<<<<< HEAD
   "execution_count": 8,
   "metadata": {},
   "outputs": [
    {
     "data": {
      "application/vnd.jupyter.widget-view+json": {
       "model_id": "ca123265da2d44e4954ee4084dea9b1e",
       "version_major": 2,
       "version_minor": 0
      },
      "text/plain": [
       "interactive(children=(Dropdown(description='fname', options=('out_20191226185147.csv', 'out_20191226190613.csv…"
      ]
     },
     "metadata": {},
     "output_type": "display_data"
    }
   ],
   "source": [
    "#lst = [i for i in sorted(os.listdir(temp_dir)) if i.startswith('out')]\n",
    "%run thermocouple\n",
    "%run notebooktools.py\n",
    "font_setup(size=14)\n",
    "\n",
    "@interact\n",
    "def absd(\n",
    "    fname = lst,\n",
    "    #i = FloatSlider(0.001,min=0.001,max=0.1,step = 0.001),\n",
    "    i = IntSlider(300,min=1,max=500),\n",
    "    #j = IntSlider(0,len(lst))\n",
    "):    \n",
    "    data = pd.read_csv(join(temp_dir,fname))\n",
    "    #plot(data['Time'],data['Temperature'])\n",
    "    #data = ThreadType.TEMPERATURE.getCalcArray(np.array(data))\n",
    "    #print(data.keys())\n",
    "    #return\n",
    "    #plot(data[:,0],data[:,1])\n",
    "    plot(data['Time']/60,data['Temperature'])\n",
    "    ylim([-10,i])\n",
    "    \n",
    "    ticks_visual(gca())\n",
    "    grid_visual(gca())\n",
    "    xlabel('time, min')\n",
    "    ylabel('T, C')\n",
    "    \n",
    "    print(lst.index(fname))    "
   ]
  },
  {
   "cell_type": "code",
   "execution_count": 10,
   "metadata": {},
   "outputs": [],
   "source": [
    "lst = [i for i in sorted(os.listdir(pres1_dir)) if i.startswith('out')]\n",
    "sz = np.array([os.path.getsize(join(pres1_dir,i)) for i in lst])\n",
    "ind = list(np.where(sz>150)[0])\n",
    "lst = [lst[i] for i in ind]"
   ]
  },
  {
   "cell_type": "code",
   "execution_count": 11,
   "metadata": {},
   "outputs": [
    {
     "name": "stdout",
     "output_type": "stream",
     "text": [
      "0\n"
     ]
    },
    {
     "data": {
      "image/png": "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\n",
>>>>>>> aa0451e8f163fc54a27b45b906cd88bdcac1a22a
      "text/plain": [
       "<Figure size 432x288 with 1 Axes>"
      ]
     },
     "metadata": {
      "needs_background": "light"
     },
     "output_type": "display_data"
    }
   ],
   "source": [
    "#lst = [i for i in sorted(os.listdir(temp_dir)) if i.startswith('out')]\n",
    "%run thermocouple\n",
    "%run notebooktools.py\n",
    "font_setup(size=14)\n",
    "\n",
    "@interact\n",
    "def absd(\n",
    "    fname = lst,\n",
    "):    \n",
    "    data = pd.read_csv(join(pres1_dir,fname))\n",
    "    #print(data.keys())\n",
    "    plot(data['Time']/60,data['Pressure1'])\n",
    "    #ylim([-10,i])\n",
    "    \n",
    "    ticks_visual(gca())\n",
    "    grid_visual(gca())\n",
    "    xlabel('time, min')\n",
    "    ylabel('P1')\n",
    "    \n",
    "    print(lst.index(fname))    "
   ]
  },
  {
   "cell_type": "code",
   "execution_count": 32,
   "metadata": {},
   "outputs": [
    {
     "data": {
      "text/plain": [
       "<Figure size 432x288 with 0 Axes>"
      ]
     },
     "metadata": {},
     "output_type": "display_data"
    }
   ],
   "source": [
    "%run ~/Dropbox/iPynotes/python_scripts/tools.py"
   ]
  },
  {
   "cell_type": "code",
   "execution_count": 55,
   "metadata": {},
   "outputs": [
    {
     "data": {
      "text/plain": [
       "(2.2, 2.5)"
      ]
     },
     "execution_count": 55,
     "metadata": {},
     "output_type": "execute_result"
    },
    {
     "data": {
      "image/png": "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\n",
      "text/plain": [
       "<Figure size 432x288 with 1 Axes>"
      ]
     },
     "metadata": {
      "needs_background": "light"
     },
     "output_type": "display_data"
    }
   ],
   "source": [
    "fname = lst[-1]\n",
    "data = pd.read_csv(join(pres1_dir,fname))\n",
    "\n",
    "t = np.array(data['Time'])\n",
    "p1 = np.array(data['Pressure1'])\n",
    "\n",
    "ind = np.where((p1>0.001) & (p1<2.7))\n",
    "#print(f'{p1.shape[0]-ind[0].shape[0]} missing points')\n",
    "plot(t[ind],p1[ind],label = fname)\n",
    "gritix()\n",
    "legend()\n",
    "xlim(160,280)\n",
    "ylim(2.2,2.5)"
   ]
  },
  {
   "cell_type": "code",
   "execution_count": 58,
   "metadata": {},
   "outputs": [
    {
     "name": "stdout",
     "output_type": "stream",
     "text": [
      "65536 1024 4096 16777216\n"
     ]
    }
   ],
   "source": [
    "print(2**16,2**10,2**12,2**24)"
   ]
  },
  {
   "cell_type": "markdown",
   "metadata": {},
   "source": [
    "# Improving speed of temperature calculator"
   ]
  },
  {
   "cell_type": "code",
   "execution_count": 10,
   "metadata": {},
   "outputs": [
    {
     "name": "stdout",
     "output_type": "stream",
     "text": [
      "out_20200109_214837.csv\n"
     ]
    },
    {
     "data": {
      "text/plain": [
       "(11742, 3)"
      ]
     },
     "execution_count": 10,
     "metadata": {},
     "output_type": "execute_result"
    }
   ],
   "source": [
    "fname = lst[22]\n",
    "print(fname)\n",
    "data = pd.read_csv(join(temp_dir,fname))\n",
    "ndata = np.array(data)\n",
    "ind = np.where(ndata[:,1]<0.3)\n",
    "fdata = ndata[ind]\n",
    "\n",
    "data.shape"
   ]
  },
  {
   "cell_type": "code",
   "execution_count": 11,
   "metadata": {},
   "outputs": [],
   "source": [
    "## timeit"
   ]
  },
  {
   "cell_type": "code",
   "execution_count": 12,
   "metadata": {},
   "outputs": [
    {
     "name": "stdout",
     "output_type": "stream",
     "text": [
      "96.1 µs ± 2.71 µs per loop (mean ± std. dev. of 7 runs, 10000 loops each)\n"
     ]
    }
   ],
   "source": [
    "%timeit data['Temperature']*10"
   ]
  },
  {
   "cell_type": "code",
   "execution_count": 13,
   "metadata": {},
   "outputs": [
    {
     "name": "stdout",
     "output_type": "stream",
     "text": [
      "33.5 ms ± 264 µs per loop (mean ± std. dev. of 7 runs, 10 loops each)\n"
     ]
    }
   ],
   "source": [
    "%timeit ThreadType.TEMPERATURE.getCalcArray(np.array(data))  "
   ]
  },
  {
   "cell_type": "code",
   "execution_count": 14,
   "metadata": {},
   "outputs": [
    {
     "name": "stdout",
     "output_type": "stream",
     "text": [
      "34.1 ms ± 625 µs per loop (mean ± std. dev. of 7 runs, 10 loops each)\n"
     ]
    }
   ],
   "source": [
    "%timeit maskTemp(np.array(data))"
   ]
  },
  {
   "cell_type": "code",
   "execution_count": 15,
   "metadata": {},
   "outputs": [
    {
     "name": "stdout",
     "output_type": "stream",
     "text": [
      "34.3 ms ± 390 µs per loop (mean ± std. dev. of 7 runs, 10 loops each)\n"
     ]
    }
   ],
   "source": [
    "%timeit maskTemp(ndata)"
   ]
  },
  {
   "cell_type": "code",
   "execution_count": 16,
   "metadata": {},
   "outputs": [
    {
     "name": "stdout",
     "output_type": "stream",
     "text": [
      "100000.0\n"
     ]
    },
    {
     "ename": "ValueError",
     "evalue": "Voltage specified is out of range for Type K thermocouple",
     "output_type": "error",
     "traceback": [
      "\u001b[0;31m---------------------------------------------------------------------------\u001b[0m",
      "\u001b[0;31mValueError\u001b[0m                                Traceback (most recent call last)",
      "\u001b[0;32m<ipython-input-16-24739d1bb709>\u001b[0m in \u001b[0;36m<module>\u001b[0;34m\u001b[0m\n\u001b[0;32m----> 1\u001b[0;31m \u001b[0mget_ipython\u001b[0m\u001b[0;34m(\u001b[0m\u001b[0;34m)\u001b[0m\u001b[0;34m.\u001b[0m\u001b[0mrun_line_magic\u001b[0m\u001b[0;34m(\u001b[0m\u001b[0;34m'timeit'\u001b[0m\u001b[0;34m,\u001b[0m \u001b[0;34m'calcTemp(100)'\u001b[0m\u001b[0;34m)\u001b[0m\u001b[0;34m\u001b[0m\u001b[0;34m\u001b[0m\u001b[0m\n\u001b[0m",
      "\u001b[0;32m~/.pyenv/versions/3.8.0/lib/python3.8/site-packages/IPython/core/interactiveshell.py\u001b[0m in \u001b[0;36mrun_line_magic\u001b[0;34m(self, magic_name, line, _stack_depth)\u001b[0m\n\u001b[1;32m   2305\u001b[0m                 \u001b[0mkwargs\u001b[0m\u001b[0;34m[\u001b[0m\u001b[0;34m'local_ns'\u001b[0m\u001b[0;34m]\u001b[0m \u001b[0;34m=\u001b[0m \u001b[0msys\u001b[0m\u001b[0;34m.\u001b[0m\u001b[0m_getframe\u001b[0m\u001b[0;34m(\u001b[0m\u001b[0mstack_depth\u001b[0m\u001b[0;34m)\u001b[0m\u001b[0;34m.\u001b[0m\u001b[0mf_locals\u001b[0m\u001b[0;34m\u001b[0m\u001b[0;34m\u001b[0m\u001b[0m\n\u001b[1;32m   2306\u001b[0m             \u001b[0;32mwith\u001b[0m \u001b[0mself\u001b[0m\u001b[0;34m.\u001b[0m\u001b[0mbuiltin_trap\u001b[0m\u001b[0;34m:\u001b[0m\u001b[0;34m\u001b[0m\u001b[0;34m\u001b[0m\u001b[0m\n\u001b[0;32m-> 2307\u001b[0;31m                 \u001b[0mresult\u001b[0m \u001b[0;34m=\u001b[0m \u001b[0mfn\u001b[0m\u001b[0;34m(\u001b[0m\u001b[0;34m*\u001b[0m\u001b[0margs\u001b[0m\u001b[0;34m,\u001b[0m \u001b[0;34m**\u001b[0m\u001b[0mkwargs\u001b[0m\u001b[0;34m)\u001b[0m\u001b[0;34m\u001b[0m\u001b[0;34m\u001b[0m\u001b[0m\n\u001b[0m\u001b[1;32m   2308\u001b[0m             \u001b[0;32mreturn\u001b[0m \u001b[0mresult\u001b[0m\u001b[0;34m\u001b[0m\u001b[0;34m\u001b[0m\u001b[0m\n\u001b[1;32m   2309\u001b[0m \u001b[0;34m\u001b[0m\u001b[0m\n",
      "\u001b[0;32m</Users/itotatsuhiko/.pyenv/versions/3.8.0/lib/python3.8/site-packages/decorator.py:decorator-gen-60>\u001b[0m in \u001b[0;36mtimeit\u001b[0;34m(self, line, cell, local_ns)\u001b[0m\n",
      "\u001b[0;32m~/.pyenv/versions/3.8.0/lib/python3.8/site-packages/IPython/core/magic.py\u001b[0m in \u001b[0;36m<lambda>\u001b[0;34m(f, *a, **k)\u001b[0m\n\u001b[1;32m    185\u001b[0m     \u001b[0;31m# but it's overkill for just that one bit of state.\u001b[0m\u001b[0;34m\u001b[0m\u001b[0;34m\u001b[0m\u001b[0;34m\u001b[0m\u001b[0m\n\u001b[1;32m    186\u001b[0m     \u001b[0;32mdef\u001b[0m \u001b[0mmagic_deco\u001b[0m\u001b[0;34m(\u001b[0m\u001b[0marg\u001b[0m\u001b[0;34m)\u001b[0m\u001b[0;34m:\u001b[0m\u001b[0;34m\u001b[0m\u001b[0;34m\u001b[0m\u001b[0m\n\u001b[0;32m--> 187\u001b[0;31m         \u001b[0mcall\u001b[0m \u001b[0;34m=\u001b[0m \u001b[0;32mlambda\u001b[0m \u001b[0mf\u001b[0m\u001b[0;34m,\u001b[0m \u001b[0;34m*\u001b[0m\u001b[0ma\u001b[0m\u001b[0;34m,\u001b[0m \u001b[0;34m**\u001b[0m\u001b[0mk\u001b[0m\u001b[0;34m:\u001b[0m \u001b[0mf\u001b[0m\u001b[0;34m(\u001b[0m\u001b[0;34m*\u001b[0m\u001b[0ma\u001b[0m\u001b[0;34m,\u001b[0m \u001b[0;34m**\u001b[0m\u001b[0mk\u001b[0m\u001b[0;34m)\u001b[0m\u001b[0;34m\u001b[0m\u001b[0;34m\u001b[0m\u001b[0m\n\u001b[0m\u001b[1;32m    188\u001b[0m \u001b[0;34m\u001b[0m\u001b[0m\n\u001b[1;32m    189\u001b[0m         \u001b[0;32mif\u001b[0m \u001b[0mcallable\u001b[0m\u001b[0;34m(\u001b[0m\u001b[0marg\u001b[0m\u001b[0;34m)\u001b[0m\u001b[0;34m:\u001b[0m\u001b[0;34m\u001b[0m\u001b[0;34m\u001b[0m\u001b[0m\n",
      "\u001b[0;32m~/.pyenv/versions/3.8.0/lib/python3.8/site-packages/IPython/core/magics/execution.py\u001b[0m in \u001b[0;36mtimeit\u001b[0;34m(self, line, cell, local_ns)\u001b[0m\n\u001b[1;32m   1158\u001b[0m             \u001b[0;32mfor\u001b[0m \u001b[0mindex\u001b[0m \u001b[0;32min\u001b[0m \u001b[0mrange\u001b[0m\u001b[0;34m(\u001b[0m\u001b[0;36m0\u001b[0m\u001b[0;34m,\u001b[0m \u001b[0;36m10\u001b[0m\u001b[0;34m)\u001b[0m\u001b[0;34m:\u001b[0m\u001b[0;34m\u001b[0m\u001b[0;34m\u001b[0m\u001b[0m\n\u001b[1;32m   1159\u001b[0m                 \u001b[0mnumber\u001b[0m \u001b[0;34m=\u001b[0m \u001b[0;36m10\u001b[0m \u001b[0;34m**\u001b[0m \u001b[0mindex\u001b[0m\u001b[0;34m\u001b[0m\u001b[0;34m\u001b[0m\u001b[0m\n\u001b[0;32m-> 1160\u001b[0;31m                 \u001b[0mtime_number\u001b[0m \u001b[0;34m=\u001b[0m \u001b[0mtimer\u001b[0m\u001b[0;34m.\u001b[0m\u001b[0mtimeit\u001b[0m\u001b[0;34m(\u001b[0m\u001b[0mnumber\u001b[0m\u001b[0;34m)\u001b[0m\u001b[0;34m\u001b[0m\u001b[0;34m\u001b[0m\u001b[0m\n\u001b[0m\u001b[1;32m   1161\u001b[0m                 \u001b[0;32mif\u001b[0m \u001b[0mtime_number\u001b[0m \u001b[0;34m>=\u001b[0m \u001b[0;36m0.2\u001b[0m\u001b[0;34m:\u001b[0m\u001b[0;34m\u001b[0m\u001b[0;34m\u001b[0m\u001b[0m\n\u001b[1;32m   1162\u001b[0m                     \u001b[0;32mbreak\u001b[0m\u001b[0;34m\u001b[0m\u001b[0;34m\u001b[0m\u001b[0m\n",
      "\u001b[0;32m~/.pyenv/versions/3.8.0/lib/python3.8/site-packages/IPython/core/magics/execution.py\u001b[0m in \u001b[0;36mtimeit\u001b[0;34m(self, number)\u001b[0m\n\u001b[1;32m    167\u001b[0m         \u001b[0mgc\u001b[0m\u001b[0;34m.\u001b[0m\u001b[0mdisable\u001b[0m\u001b[0;34m(\u001b[0m\u001b[0;34m)\u001b[0m\u001b[0;34m\u001b[0m\u001b[0;34m\u001b[0m\u001b[0m\n\u001b[1;32m    168\u001b[0m         \u001b[0;32mtry\u001b[0m\u001b[0;34m:\u001b[0m\u001b[0;34m\u001b[0m\u001b[0;34m\u001b[0m\u001b[0m\n\u001b[0;32m--> 169\u001b[0;31m             \u001b[0mtiming\u001b[0m \u001b[0;34m=\u001b[0m \u001b[0mself\u001b[0m\u001b[0;34m.\u001b[0m\u001b[0minner\u001b[0m\u001b[0;34m(\u001b[0m\u001b[0mit\u001b[0m\u001b[0;34m,\u001b[0m \u001b[0mself\u001b[0m\u001b[0;34m.\u001b[0m\u001b[0mtimer\u001b[0m\u001b[0;34m)\u001b[0m\u001b[0;34m\u001b[0m\u001b[0;34m\u001b[0m\u001b[0m\n\u001b[0m\u001b[1;32m    170\u001b[0m         \u001b[0;32mfinally\u001b[0m\u001b[0;34m:\u001b[0m\u001b[0;34m\u001b[0m\u001b[0;34m\u001b[0m\u001b[0m\n\u001b[1;32m    171\u001b[0m             \u001b[0;32mif\u001b[0m \u001b[0mgcold\u001b[0m\u001b[0;34m:\u001b[0m\u001b[0;34m\u001b[0m\u001b[0;34m\u001b[0m\u001b[0m\n",
      "\u001b[0;32m<magic-timeit>\u001b[0m in \u001b[0;36minner\u001b[0;34m(_it, _timer)\u001b[0m\n",
      "\u001b[0;32m~/prog/FeedbackControl/thermocouple.py\u001b[0m in \u001b[0;36mcalcTemp\u001b[0;34m(voltage)\u001b[0m\n\u001b[1;32m     15\u001b[0m     \u001b[0;31m# V -> mV\u001b[0m\u001b[0;34m\u001b[0m\u001b[0;34m\u001b[0m\u001b[0;34m\u001b[0m\u001b[0m\n\u001b[1;32m     16\u001b[0m     \u001b[0mv\u001b[0m \u001b[0;34m=\u001b[0m \u001b[0mvoltage\u001b[0m \u001b[0;34m*\u001b[0m \u001b[0;34m(\u001b[0m\u001b[0;36m1e3\u001b[0m\u001b[0;34m)\u001b[0m\u001b[0;34m\u001b[0m\u001b[0;34m\u001b[0m\u001b[0m\n\u001b[0;32m---> 17\u001b[0;31m     \u001b[0;32mreturn\u001b[0m \u001b[0mtc\u001b[0m\u001b[0;34m.\u001b[0m\u001b[0mThermocouple\u001b[0m\u001b[0;34m.\u001b[0m\u001b[0mmv_to_typek\u001b[0m\u001b[0;34m(\u001b[0m\u001b[0mv\u001b[0m\u001b[0;34m)\u001b[0m \u001b[0;34m+\u001b[0m \u001b[0mAMBIENT\u001b[0m\u001b[0;34m\u001b[0m\u001b[0;34m\u001b[0m\u001b[0m\n\u001b[0m\u001b[1;32m     18\u001b[0m \u001b[0;34m\u001b[0m\u001b[0m\n\u001b[1;32m     19\u001b[0m \u001b[0;32mdef\u001b[0m \u001b[0mrun\u001b[0m\u001b[0;34m(\u001b[0m\u001b[0;34m)\u001b[0m\u001b[0;34m:\u001b[0m\u001b[0;34m\u001b[0m\u001b[0;34m\u001b[0m\u001b[0m\n",
      "\u001b[0;32m~/prog/FeedbackControl/tc.py\u001b[0m in \u001b[0;36mmv_to_typek\u001b[0;34m(mv)\u001b[0m\n\u001b[1;32m    379\u001b[0m         \u001b[0;32melse\u001b[0m\u001b[0;34m:\u001b[0m\u001b[0;34m\u001b[0m\u001b[0;34m\u001b[0m\u001b[0m\n\u001b[1;32m    380\u001b[0m             \u001b[0mprint\u001b[0m\u001b[0;34m(\u001b[0m\u001b[0mmv\u001b[0m\u001b[0;34m)\u001b[0m\u001b[0;34m\u001b[0m\u001b[0;34m\u001b[0m\u001b[0m\n\u001b[0;32m--> 381\u001b[0;31m             \u001b[0;32mraise\u001b[0m \u001b[0mValueError\u001b[0m\u001b[0;34m(\u001b[0m\u001b[0;34m\"Voltage specified is out of range for Type K thermocouple\"\u001b[0m\u001b[0;34m)\u001b[0m\u001b[0;34m\u001b[0m\u001b[0;34m\u001b[0m\u001b[0m\n\u001b[0m\u001b[1;32m    382\u001b[0m \u001b[0;34m\u001b[0m\u001b[0m\n\u001b[1;32m    383\u001b[0m         \u001b[0mt\u001b[0m \u001b[0;34m=\u001b[0m \u001b[0;36m0.0\u001b[0m\u001b[0;34m\u001b[0m\u001b[0;34m\u001b[0m\u001b[0m\n",
      "\u001b[0;31mValueError\u001b[0m: Voltage specified is out of range for Type K thermocouple"
     ]
    }
   ],
   "source": [
    "%timeit calcTemp(100)"
   ]
  },
  {
   "cell_type": "code",
   "execution_count": 17,
   "metadata": {},
   "outputs": [],
   "source": [
    "import tc"
   ]
  },
  {
   "cell_type": "code",
   "execution_count": 18,
   "metadata": {},
   "outputs": [
    {
     "name": "stdout",
     "output_type": "stream",
     "text": [
      "2.53 µs ± 47.4 ns per loop (mean ± std. dev. of 7 runs, 100000 loops each)\n"
     ]
    }
   ],
   "source": [
    "%timeit tc.Thermocouple.mv_to_typek(12)"
   ]
  },
  {
   "cell_type": "code",
   "execution_count": null,
   "metadata": {},
   "outputs": [],
   "source": []
  },
  {
   "cell_type": "code",
   "execution_count": 19,
   "metadata": {},
   "outputs": [
    {
     "name": "stdout",
     "output_type": "stream",
     "text": [
      "[1. 1. 1. 1. 1. 1. 1. 1. 1. 1.]\n",
      "[10 11 12 13 14 15 16 17 18 19]\n"
     ]
    },
    {
     "data": {
      "text/plain": [
       "array([10., 11., 12., 13., 14., 15., 16., 17., 18., 19.])"
      ]
     },
     "execution_count": 19,
     "metadata": {},
     "output_type": "execute_result"
    }
   ],
   "source": [
    "a = np.ones(10)\n",
    "b = np.arange(10,20)\n",
    "print(a)\n",
    "print(b)\n",
    "a*b"
   ]
  },
  {
   "cell_type": "code",
   "execution_count": 20,
   "metadata": {},
   "outputs": [
    {
     "data": {
      "text/plain": [
       "1023.0"
      ]
     },
     "execution_count": 20,
     "metadata": {},
     "output_type": "execute_result"
    }
   ],
   "source": [
    "p = np.poly1d(np.ones(10))\n",
    "p(2)"
   ]
  },
  {
   "cell_type": "code",
   "execution_count": null,
   "metadata": {},
   "outputs": [],
   "source": []
  },
  {
   "cell_type": "code",
   "execution_count": 21,
   "metadata": {},
   "outputs": [
    {
     "data": {
      "text/plain": [
       "Text(0, 0.5, 'T, mV')"
      ]
     },
     "execution_count": 21,
     "metadata": {},
     "output_type": "execute_result"
    },
    {
     "data": {
      "image/png": "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\n",
      "text/plain": [
       "<Figure size 432x288 with 1 Axes>"
      ]
     },
     "metadata": {
      "needs_background": "light"
     },
     "output_type": "display_data"
    }
   ],
   "source": [
    "%run notebooktools.py\n",
    "font_setup(size=14)\n",
    "plot(fdata[:,0]/60,fdata[:,1]/1e-3)\n",
    "\n",
    "ticks_visual(gca())\n",
    "grid_visual(gca())\n",
    "xlabel('time, min')\n",
    "ylabel('T, mV')"
   ]
  },
  {
   "cell_type": "code",
   "execution_count": 22,
   "metadata": {},
   "outputs": [
    {
     "name": "stdout",
     "output_type": "stream",
     "text": [
      "31.7 ms ± 1.15 ms per loop (mean ± std. dev. of 7 runs, 10 loops each)\n"
     ]
    }
   ],
   "source": [
    "%timeit [tc.Thermocouple.mv_to_typek(i) for i in fdata[:,1]]"
   ]
  },
  {
   "cell_type": "code",
   "execution_count": 23,
   "metadata": {},
   "outputs": [],
   "source": [
    "temperature = np.array([tc.Thermocouple.mv_to_typek(i) for i in fdata[:,1]/1e-3])"
   ]
  },
  {
   "cell_type": "code",
   "execution_count": 24,
   "metadata": {},
   "outputs": [
    {
     "data": {
      "text/plain": [
       "Text(0, 0.5, 'T, C')"
      ]
     },
     "execution_count": 24,
     "metadata": {},
     "output_type": "execute_result"
    },
    {
     "data": {
      "image/png": "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\n",
      "text/plain": [
       "<Figure size 432x288 with 1 Axes>"
      ]
     },
     "metadata": {
      "needs_background": "light"
     },
     "output_type": "display_data"
    }
   ],
   "source": [
    "%run notebooktools.py\n",
    "font_setup(size=14)\n",
    "plot(fdata[:,0]/60,temperature+20)\n",
    "\n",
    "ticks_visual(gca())\n",
    "grid_visual(gca())\n",
    "xlabel('time, min')\n",
    "ylabel('T, C')"
   ]
  },
  {
   "cell_type": "code",
   "execution_count": null,
   "metadata": {},
   "outputs": [],
   "source": []
  },
  {
   "cell_type": "code",
   "execution_count": null,
   "metadata": {},
   "outputs": [],
   "source": []
  }
 ],
 "metadata": {
  "kernelspec": {
   "display_name": "Python 3",
   "language": "python",
   "name": "python3"
  },
  "language_info": {
   "codemirror_mode": {
    "name": "ipython",
    "version": 3
   },
   "file_extension": ".py",
   "mimetype": "text/x-python",
   "name": "python",
   "nbconvert_exporter": "python",
   "pygments_lexer": "ipython3",
   "version": "3.8.0"
  }
 },
 "nbformat": 4,
 "nbformat_minor": 4
}
